{
 "cells": [
  {
   "cell_type": "code",
   "execution_count": 13,
   "id": "7790f09b",
   "metadata": {
    "scrolled": true
   },
   "outputs": [],
   "source": [
    "import pymysql\n",
    "\n",
    "connection = pymysql.connect(host = 'localhost', user = 'testUser', password = '1111', db = 'testdb', charset = 'utf8')\n",
    "\n",
    "# cursor 결과를 데이터 딕셔너리로 자동으로 바꿔주는 옵션이 있다고 해요.\n",
    "# pymysql.cursors.DictCursor\n",
    "cursor = connection.cursor(pymysql.cursors.DictCursor)\n",
    "\n",
    "SQL = '''\n",
    "    SELECT\n",
    "        *\n",
    "    FROM\n",
    "        `member`\n",
    "'''\n",
    "cursor.execute(SQL)\n",
    "\n",
    "datas = cursor.fetchall() # 커서에 있던 쿼리의 결과물을 변수에 담았기 때문에 커넥션을 닫아도 데이터가 나오게 되는 것이다.\n",
    "connection.close()"
   ]
  },
  {
   "cell_type": "code",
   "execution_count": 14,
   "id": "dcbb0807",
   "metadata": {},
   "outputs": [
    {
     "data": {
      "text/plain": [
       "[{'id': 1,\n",
       "  'member_id': 'TWC',\n",
       "  'name': '트와이스',\n",
       "  'address': 'Seoul',\n",
       "  'phone_number': '010-1111-1111',\n",
       "  'create_date': datetime.datetime(2023, 2, 6, 14, 4, 8),\n",
       "  'update_date': datetime.datetime(2023, 2, 6, 14, 4, 8)},\n",
       " {'id': 2,\n",
       "  'member_id': 'BLK',\n",
       "  'name': '블랙핑크',\n",
       "  'address': 'Seoul',\n",
       "  'phone_number': '010-1111-2222',\n",
       "  'create_date': datetime.datetime(2023, 2, 6, 14, 4, 8),\n",
       "  'update_date': datetime.datetime(2023, 2, 6, 14, 4, 8)},\n",
       " {'id': 3,\n",
       "  'member_id': 'WMN',\n",
       "  'name': '여자친구',\n",
       "  'address': 'Daegu',\n",
       "  'phone_number': '010-1111-3333',\n",
       "  'create_date': datetime.datetime(2023, 2, 6, 14, 4, 8),\n",
       "  'update_date': datetime.datetime(2023, 2, 6, 14, 4, 8)},\n",
       " {'id': 4,\n",
       "  'member_id': 'OMY',\n",
       "  'name': '오마이걸',\n",
       "  'address': 'Daegu',\n",
       "  'phone_number': '010-1111-4444',\n",
       "  'create_date': datetime.datetime(2023, 2, 6, 14, 4, 8),\n",
       "  'update_date': datetime.datetime(2023, 2, 6, 14, 4, 8)},\n",
       " {'id': 5,\n",
       "  'member_id': 'GRL',\n",
       "  'name': '소녀시대',\n",
       "  'address': 'Daegeon',\n",
       "  'phone_number': '010-1111-5555',\n",
       "  'create_date': datetime.datetime(2023, 2, 6, 14, 4, 8),\n",
       "  'update_date': datetime.datetime(2023, 2, 6, 14, 4, 8)},\n",
       " {'id': 6,\n",
       "  'member_id': 'ITZ',\n",
       "  'name': '잇지',\n",
       "  'address': 'Daegeon',\n",
       "  'phone_number': '010-2222-1111',\n",
       "  'create_date': datetime.datetime(2023, 2, 6, 14, 4, 8),\n",
       "  'update_date': datetime.datetime(2023, 2, 6, 14, 4, 8)},\n",
       " {'id': 7,\n",
       "  'member_id': 'RED',\n",
       "  'name': '레드밸벳',\n",
       "  'address': 'Daegeon',\n",
       "  'phone_number': '010-2222-1111',\n",
       "  'create_date': datetime.datetime(2023, 2, 6, 14, 4, 8),\n",
       "  'update_date': datetime.datetime(2023, 2, 6, 14, 4, 8)},\n",
       " {'id': 8,\n",
       "  'member_id': 'APN',\n",
       "  'name': '에이핑크',\n",
       "  'address': 'Busan',\n",
       "  'phone_number': '010-2222-2222',\n",
       "  'create_date': datetime.datetime(2023, 2, 6, 14, 4, 8),\n",
       "  'update_date': datetime.datetime(2023, 2, 6, 14, 4, 8)},\n",
       " {'id': 9,\n",
       "  'member_id': 'SPC',\n",
       "  'name': '우주소녀',\n",
       "  'address': 'Junnam',\n",
       "  'phone_number': '010-2222-2222',\n",
       "  'create_date': datetime.datetime(2023, 2, 6, 14, 4, 8),\n",
       "  'update_date': datetime.datetime(2023, 2, 6, 14, 4, 8)}]"
      ]
     },
     "execution_count": 14,
     "metadata": {},
     "output_type": "execute_result"
    }
   ],
   "source": [
    "datas"
   ]
  }
 ],
 "metadata": {
  "kernelspec": {
   "display_name": "Python 3 (ipykernel)",
   "language": "python",
   "name": "python3"
  },
  "language_info": {
   "codemirror_mode": {
    "name": "ipython",
    "version": 3
   },
   "file_extension": ".py",
   "mimetype": "text/x-python",
   "name": "python",
   "nbconvert_exporter": "python",
   "pygments_lexer": "ipython3",
   "version": "3.9.13"
  }
 },
 "nbformat": 4,
 "nbformat_minor": 5
}
