{
 "cells": [
  {
   "cell_type": "code",
   "execution_count": 3,
   "id": "c019c7b0",
   "metadata": {},
   "outputs": [
    {
     "name": "stderr",
     "output_type": "stream",
     "text": [
      "IOPub data rate exceeded.\n",
      "The notebook server will temporarily stop sending output\n",
      "to the client in order to avoid crashing it.\n",
      "To change this limit, set the config variable\n",
      "`--NotebookApp.iopub_data_rate_limit`.\n",
      "\n",
      "Current values:\n",
      "NotebookApp.iopub_data_rate_limit=1000000.0 (bytes/sec)\n",
      "NotebookApp.rate_limit_window=3.0 (secs)\n",
      "\n"
     ]
    }
   ],
   "source": [
    "import csv\n",
    "\n",
    "#. 파일을 읽습니다.\n",
    "file = open(\"D:\\data\\경상남도 통영시_꿈이랑도서관보유도서목록현황_20230206.csv\", \n",
    "            'r',\n",
    "           encoding = 'UTF-8')\n",
    "\n",
    "#. csv 라이브러리가  csv 파일을 읽을 수 있도록 변환합니다.\n",
    "reader = csv.reader(file)\n",
    "\n",
    "#  csv 파일의 한 라인(줄)씩 읽어 들이는 과정입니다.\n",
    "cnt = 1\n",
    "for line in reader :\n",
    "    print(line)\n",
    "    if cnt > 30 :\n",
    "        break\n",
    "    cnt++"
   ]
  }
 ],
 "metadata": {
  "kernelspec": {
   "display_name": "Python 3 (ipykernel)",
   "language": "python",
   "name": "python3"
  },
  "language_info": {
   "codemirror_mode": {
    "name": "ipython",
    "version": 3
   },
   "file_extension": ".py",
   "mimetype": "text/x-python",
   "name": "python",
   "nbconvert_exporter": "python",
   "pygments_lexer": "ipython3",
   "version": "3.9.13"
  }
 },
 "nbformat": 4,
 "nbformat_minor": 5
}
